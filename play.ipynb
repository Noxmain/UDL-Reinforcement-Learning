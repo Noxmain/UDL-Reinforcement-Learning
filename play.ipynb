{
 "cells": [
  {
   "cell_type": "code",
   "execution_count": null,
   "id": "0bcb9d5e",
   "metadata": {},
   "outputs": [
    {
     "ename": "KeyError",
     "evalue": "'q_network_state_dict'",
     "output_type": "error",
     "traceback": [
      "\u001b[31m---------------------------------------------------------------------------\u001b[39m",
      "\u001b[31mKeyError\u001b[39m                                  Traceback (most recent call last)",
      "\u001b[36mCell\u001b[39m\u001b[36m \u001b[39m\u001b[32mIn[1]\u001b[39m\u001b[32m, line 16\u001b[39m\n\u001b[32m     14\u001b[39m env = BulletChessEnv()\n\u001b[32m     15\u001b[39m agent = BulletChessDQNAgent()\n\u001b[32m---> \u001b[39m\u001b[32m16\u001b[39m \u001b[43magent\u001b[49m\u001b[43m.\u001b[49m\u001b[43mload\u001b[49m\u001b[43m(\u001b[49m\u001b[33;43m\"\u001b[39;49m\u001b[33;43mchess_dqn_model.pth\u001b[39;49m\u001b[33;43m\"\u001b[39;49m\u001b[43m)\u001b[49m\n\u001b[32m     18\u001b[39m obs = env.reset()\n\u001b[32m     19\u001b[39m done = \u001b[38;5;28;01mFalse\u001b[39;00m\n",
      "\u001b[36mFile \u001b[39m\u001b[32mc:\\Users\\lehel\\Desktop\\UOS\\Master\\Sem2\\Understanding_Deep_Learning\\UDL-Reinforcement-Learning\\agent_dqn.py:608\u001b[39m, in \u001b[36mBulletChessDQNAgent.load\u001b[39m\u001b[34m(self, filepath)\u001b[39m\n\u001b[32m    605\u001b[39m checkpoint = torch.load(filepath, map_location=\u001b[38;5;28mself\u001b[39m.device)  \u001b[38;5;66;03m# Load checkpoint\u001b[39;00m\n\u001b[32m    607\u001b[39m \u001b[38;5;66;03m# Restore network states\u001b[39;00m\n\u001b[32m--> \u001b[39m\u001b[32m608\u001b[39m \u001b[38;5;28mself\u001b[39m.q_network.load_state_dict(\u001b[43mcheckpoint\u001b[49m\u001b[43m[\u001b[49m\u001b[33;43m'\u001b[39;49m\u001b[33;43mq_network_state_dict\u001b[39;49m\u001b[33;43m'\u001b[39;49m\u001b[43m]\u001b[49m)\n\u001b[32m    609\u001b[39m \u001b[38;5;28mself\u001b[39m.target_network.load_state_dict(checkpoint[\u001b[33m'\u001b[39m\u001b[33mtarget_network_state_dict\u001b[39m\u001b[33m'\u001b[39m])\n\u001b[32m    610\u001b[39m \u001b[38;5;28mself\u001b[39m.optimizer.load_state_dict(checkpoint[\u001b[33m'\u001b[39m\u001b[33moptimizer_state_dict\u001b[39m\u001b[33m'\u001b[39m])\n",
      "\u001b[31mKeyError\u001b[39m: 'q_network_state_dict'"
     ]
    }
   ],
   "source": [
    "import torch\n",
    "import chess\n",
    "import chess.svg\n",
    "from IPython.display import SVG, display, clear_output\n",
    "from environment import BulletChessEnv\n",
    "from agent_dqn import BulletChessDQNAgent\n",
    "\n",
    "def display_board_and_timers(env):\n",
    "    clear_output(wait=True)\n",
    "    board_svg = chess.svg.board(env.game_state.board, size=400)\n",
    "    display(SVG(board_svg))\n",
    "    print(f\"White time: {int(env.game_state.white_time)}s | Black time: {int(env.game_state.black_time)}s\")\n",
    "\n",
    "env = BulletChessEnv()\n",
    "agent = BulletChessDQNAgent()\n",
    "agent.load(\"models/checkpoint_100.pth\")\n",
    "\n",
    "obs = env.reset()\n",
    "done = False\n",
    "\n",
    "print(\"Game start! Enter moves in UCI format (e.g., e2e4).\")\n",
    "\n",
    "while not done:\n",
    "    display_board_and_timers(env)\n",
    "\n",
    "    if env.game_state.board.turn == chess.WHITE:\n",
    "        while True:\n",
    "            move_uci = input(\"Your move (UCI): \")\n",
    "            try:\n",
    "                obs, reward, done, info = env.step(move_uci)\n",
    "                if reward == -1:  # illegal move signal\n",
    "                    print(\"Illegal move, try again.\")\n",
    "                    continue\n",
    "                break\n",
    "            except Exception as e:\n",
    "                print(f\"Error: {e}. Try again.\")\n",
    "    else:\n",
    "        obs = env.get_observation()\n",
    "        legal_actions = env.get_legal_actions()\n",
    "        action = agent.select_action(obs, legal_actions)\n",
    "        obs, reward, done, info = env.step(action)\n",
    "        print(f\"Agent played: {env._action_to_move(action).uci()}\")\n",
    "\n",
    "    if done:\n",
    "        display_board_and_timers(env)\n",
    "        if info.get(\"reason\") == \"time\":\n",
    "            print(\"Game over: Time out!\")\n",
    "        elif info.get(\"reason\") == \"checkmate\":\n",
    "            print(\"Game over: Checkmate!\")\n",
    "        else:\n",
    "            print(\"Game over.\")\n",
    "        break\n"
   ]
  }
 ],
 "metadata": {
  "kernelspec": {
   "display_name": "python-chess",
   "language": "python",
   "name": "python3"
  },
  "language_info": {
   "codemirror_mode": {
    "name": "ipython",
    "version": 3
   },
   "file_extension": ".py",
   "mimetype": "text/x-python",
   "name": "python",
   "nbconvert_exporter": "python",
   "pygments_lexer": "ipython3",
   "version": "3.11.13"
  }
 },
 "nbformat": 4,
 "nbformat_minor": 5
}
