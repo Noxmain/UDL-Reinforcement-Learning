{
 "cells": [
  {
   "cell_type": "code",
   "execution_count": null,
   "id": "efe78840",
   "metadata": {},
   "outputs": [],
   "source": [
    "import numpy as np\n",
    "import random\n",
    "import matplotlib.pyplot as plt\n",
    "\n",
    "class Maze:\n",
    "    def __init__(self, width=10, height=10, seed=None):\n",
    "        self.width = width if width % 2 == 1 else width - 1\n",
    "        self.height = height if height % 2 == 1 else height - 1\n",
    "        self.seed = seed\n",
    "        if seed is not None:\n",
    "            random.seed(seed)\n",
    "            np.random.seed(seed)\n",
    "\n",
    "        self.maze = np.ones((height, width), dtype=int)  # 1 = wall, 0 = path\n",
    "        self.start = (0, 0)\n",
    "        self.goal = (height - 1, width - 1)\n",
    "        self._generate_maze()\n",
    "        self.maze[self.start] = 0\n",
    "        self.maze[self.goal] = 0\n",
    "\n",
    "    def _generate_maze(self):\n",
    "        \"\"\"Recursive backtracking maze generator.\"\"\"\n",
    "        visited = np.zeros_like(self.maze)\n",
    "        stack = []\n",
    "\n",
    "        def neighbors(y, x):\n",
    "            directions = [(-2, 0), (2, 0), (0, -2), (0, 2)]\n",
    "            random.shuffle(directions)\n",
    "            for dy, dx in directions:\n",
    "                ny, nx = y + dy, x + dx\n",
    "                if 0 <= ny < self.height and 0 <= nx < self.width and visited[ny, nx] == 0:\n",
    "                    yield (ny, nx, dy // 2, dx // 2)\n",
    "\n",
    "        # Start from top-left corner\n",
    "        y, x = 0, 0\n",
    "        visited[y, x] = 1\n",
    "        self.maze[y, x] = 0\n",
    "        stack.append((y, x))\n",
    "\n",
    "        while stack:\n",
    "            y, x = stack[-1]\n",
    "            found = False\n",
    "            for ny, nx, wy, wx in neighbors(y, x):\n",
    "                if visited[ny, nx] == 0:\n",
    "                    visited[ny, nx] = 1\n",
    "                    self.maze[y + wy, x + wx] = 0  # Remove wall\n",
    "                    self.maze[ny, nx] = 0\n",
    "                    stack.append((ny, nx))\n",
    "                    found = True\n",
    "                    break\n",
    "            if not found:\n",
    "                stack.pop()\n",
    "\n",
    "    def display(self):\n",
    "        \"\"\"Prints the maze to the console.\"\"\"\n",
    "        display_map = {0: \"  \", 1: \"██\"}\n",
    "        for y in range(self.height):\n",
    "            row = \"\"\n",
    "            for x in range(self.width):\n",
    "                if (y, x) == self.start:\n",
    "                    row += \" S\"\n",
    "                elif (y, x) == self.goal:\n",
    "                    row += \" G\"\n",
    "                else:\n",
    "                    row += display_map[self.maze[y, x]]\n",
    "            print(row)\n",
    "\n",
    "    def get_grid(self):\n",
    "        \"\"\"Returns the maze as a NumPy array (0 = free, 1 = wall).\"\"\"\n",
    "        return self.maze.copy()\n",
    "\n",
    "    def get_start(self):\n",
    "        return self.start\n",
    "\n",
    "    def get_goal(self):\n",
    "        return self.goal\n"
   ]
  },
  {
   "cell_type": "code",
   "execution_count": null,
   "id": "31842d17",
   "metadata": {},
   "outputs": [],
   "source": [
    "def plot_maze(maze):\n",
    "    grid = maze.get_grid()\n",
    "    fig, ax = plt.subplots()\n",
    "    ax.imshow(grid, cmap='gray_r')\n",
    "    ax.scatter(*maze.get_start()[::-1], c='green', s=100, label='Start')\n",
    "    ax.scatter(*maze.get_goal()[::-1], c='red', s=100, label='Goal')\n",
    "    ax.legend()\n",
    "    plt.show()\n"
   ]
  },
  {
   "cell_type": "code",
   "execution_count": 25,
   "id": "09a4ad77",
   "metadata": {},
   "outputs": [
    {
     "name": "stdout",
     "output_type": "stream",
     "text": [
      " S██      ██      \n",
      "  ██  ██  ██  ██  \n",
      "      ██  ██  ██  \n",
      "████████  ██████  \n",
      "      ██      ██  \n",
      "████  ██████  ██  \n",
      "      ██      ██  \n",
      "  ██████  ██████  \n",
      "                 G\n"
     ]
    },
    {
     "data": {
      "image/png": "[encoded data removed]",
      "text/plain": [
       "<Figure size 640x480 with 1 Axes>"
      ]
     },
     "metadata": {},
     "output_type": "display_data"
    }
   ],
   "source": [
    "maze = Maze(width=9, height=9, seed=40)\n",
    "maze.display()\n",
    "plot_maze(maze)\n",
    "# Use in RL environment\n",
    "grid = maze.get_grid()\n",
    "start = maze.get_start()\n",
    "goal = maze.get_goal()\n"
   ]
  },
  {
   "cell_type": "code",
   "execution_count": null,
   "id": "fae4b030",
   "metadata": {},
   "outputs": [],
   "source": [
    "maze = Maze(width=9, height=9)  # Or use MazeManager\n",
    "env = MazeEnv(maze)\n",
    "agent = QLearningAgent(env.maze.shape)\n",
    "\n",
    "train_agent(env, agent, episodes=2000)\n",
    "\n",
    "# Visualize final policy\n",
    "state = env.reset()\n",
    "env.render()\n",
    "for _ in range(50):\n",
    "    action = agent.choose_action(state)\n",
    "    state, reward, done, _ = env.step(action)\n",
    "    env.render()\n",
    "    if done:\n",
    "        print(\"Goal reached!\")\n",
    "        break\n"
   ]
  }
 ],
 "metadata": {
  "kernelspec": {
   "display_name": "udlrl",
   "language": "python",
   "name": "python3"
  },
  "language_info": {
   "codemirror_mode": {
    "name": "ipython",
    "version": 3
   },
   "file_extension": ".py",
   "mimetype": "text/x-python",
   "name": "python",
   "nbconvert_exporter": "python",
   "pygments_lexer": "ipython3",
   "version": "3.13.5"
  }
 },
 "nbformat": 4,
 "nbformat_minor": 5
}
